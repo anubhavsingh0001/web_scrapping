{
 "cells": [
  {
   "cell_type": "code",
   "execution_count": 1,
   "id": "b0d8028d",
   "metadata": {},
   "outputs": [],
   "source": [
    "import requests\n",
    "import pandas as pd\n",
    "from bs4 import BeautifulSoup"
   ]
  },
  {
   "cell_type": "code",
   "execution_count": 2,
   "id": "2bcdd203",
   "metadata": {},
   "outputs": [],
   "source": [
    "url='https://timesofindia.indiatimes.com/home/headlines'\n",
    "response=requests.get(url)"
   ]
  },
  {
   "cell_type": "code",
   "execution_count": 3,
   "id": "d566326c",
   "metadata": {},
   "outputs": [],
   "source": [
    "soup=BeautifulSoup(response.content,'html.parser')"
   ]
  },
  {
   "cell_type": "code",
   "execution_count": 4,
   "id": "e1f8a66d",
   "metadata": {},
   "outputs": [],
   "source": [
    "df=pd.DataFrame(columns=['NEWS','LINK'])\n",
    "a=0"
   ]
  },
  {
   "cell_type": "code",
   "execution_count": 5,
   "id": "efc5b744",
   "metadata": {},
   "outputs": [],
   "source": [
    "\n",
    "for d in soup.find_all('span',attrs={'class':\"w_tle\"}):\n",
    "    a=a+1\n",
    "    news=d.find('a')\n",
    "    link=d.find('a')\n",
    "    data=[]\n",
    "    if news is not None:\n",
    "        data.append(news.text)\n",
    "    else:\n",
    "        data.append('Nan')\n",
    "    if link is not None:\n",
    "        data.append('https://timesofindia.indiatimes.com/home/headlines'+link['href'])\n",
    "    else:\n",
    "        data.append('Nan')\n",
    "        \n",
    "    df.loc[len(df)]=data\n",
    "    if a==10:\n",
    "        break\n",
    "   \n",
    "    "
   ]
  },
  {
   "cell_type": "code",
   "execution_count": 6,
   "id": "8707c54e",
   "metadata": {},
   "outputs": [
    {
     "data": {
      "text/html": [
       "<div>\n",
       "<style scoped>\n",
       "    .dataframe tbody tr th:only-of-type {\n",
       "        vertical-align: middle;\n",
       "    }\n",
       "\n",
       "    .dataframe tbody tr th {\n",
       "        vertical-align: top;\n",
       "    }\n",
       "\n",
       "    .dataframe thead th {\n",
       "        text-align: right;\n",
       "    }\n",
       "</style>\n",
       "<table border=\"1\" class=\"dataframe\">\n",
       "  <thead>\n",
       "    <tr style=\"text-align: right;\">\n",
       "      <th></th>\n",
       "      <th>NEWS</th>\n",
       "      <th>LINK</th>\n",
       "    </tr>\n",
       "  </thead>\n",
       "  <tbody>\n",
       "    <tr>\n",
       "      <th>0</th>\n",
       "      <td>Trump &amp; Co sink to new low with ugly sexual sl...</td>\n",
       "      <td>https://timesofindia.indiatimes.com/home/headl...</td>\n",
       "    </tr>\n",
       "    <tr>\n",
       "      <th>1</th>\n",
       "      <td>'Rahul's politics has changed': Smriti Irani d...</td>\n",
       "      <td>https://timesofindia.indiatimes.com/home/headl...</td>\n",
       "    </tr>\n",
       "    <tr>\n",
       "      <th>2</th>\n",
       "      <td>'Nothing to do with rape': 6 rapists on why th...</td>\n",
       "      <td>https://timesofindia.indiatimes.com/home/headl...</td>\n",
       "    </tr>\n",
       "    <tr>\n",
       "      <th>3</th>\n",
       "      <td>Kolkata horror: Cornered Mamata hits back as B...</td>\n",
       "      <td>https://timesofindia.indiatimes.com/home/headl...</td>\n",
       "    </tr>\n",
       "    <tr>\n",
       "      <th>4</th>\n",
       "      <td>Paralympics Live: Sheetal Devi finishes 2nd in...</td>\n",
       "      <td>https://timesofindia.indiatimes.com/home/headl...</td>\n",
       "    </tr>\n",
       "    <tr>\n",
       "      <th>5</th>\n",
       "      <td>Over 1k dead, hundreds blinded in Bangladesh p...</td>\n",
       "      <td>https://timesofindia.indiatimes.com/home/headl...</td>\n",
       "    </tr>\n",
       "    <tr>\n",
       "      <th>6</th>\n",
       "      <td>Southern states look to outfox each other in h...</td>\n",
       "      <td>https://timesofindia.indiatimes.com/home/headl...</td>\n",
       "    </tr>\n",
       "    <tr>\n",
       "      <th>7</th>\n",
       "      <td>How Youtubers Dhruv Rathee, Gaurav Taneja clas...</td>\n",
       "      <td>https://timesofindia.indiatimes.com/home/headl...</td>\n",
       "    </tr>\n",
       "    <tr>\n",
       "      <th>8</th>\n",
       "      <td>Paris Paralympics, August 30: India's Full Sch...</td>\n",
       "      <td>https://timesofindia.indiatimes.com/home/headl...</td>\n",
       "    </tr>\n",
       "    <tr>\n",
       "      <th>9</th>\n",
       "      <td>Top 10 richest Indians 2024: Adani tops! Where...</td>\n",
       "      <td>https://timesofindia.indiatimes.com/home/headl...</td>\n",
       "    </tr>\n",
       "  </tbody>\n",
       "</table>\n",
       "</div>"
      ],
      "text/plain": [
       "                                                NEWS  \\\n",
       "0  Trump & Co sink to new low with ugly sexual sl...   \n",
       "1  'Rahul's politics has changed': Smriti Irani d...   \n",
       "2  'Nothing to do with rape': 6 rapists on why th...   \n",
       "3  Kolkata horror: Cornered Mamata hits back as B...   \n",
       "4  Paralympics Live: Sheetal Devi finishes 2nd in...   \n",
       "5  Over 1k dead, hundreds blinded in Bangladesh p...   \n",
       "6  Southern states look to outfox each other in h...   \n",
       "7  How Youtubers Dhruv Rathee, Gaurav Taneja clas...   \n",
       "8  Paris Paralympics, August 30: India's Full Sch...   \n",
       "9  Top 10 richest Indians 2024: Adani tops! Where...   \n",
       "\n",
       "                                                LINK  \n",
       "0  https://timesofindia.indiatimes.com/home/headl...  \n",
       "1  https://timesofindia.indiatimes.com/home/headl...  \n",
       "2  https://timesofindia.indiatimes.com/home/headl...  \n",
       "3  https://timesofindia.indiatimes.com/home/headl...  \n",
       "4  https://timesofindia.indiatimes.com/home/headl...  \n",
       "5  https://timesofindia.indiatimes.com/home/headl...  \n",
       "6  https://timesofindia.indiatimes.com/home/headl...  \n",
       "7  https://timesofindia.indiatimes.com/home/headl...  \n",
       "8  https://timesofindia.indiatimes.com/home/headl...  \n",
       "9  https://timesofindia.indiatimes.com/home/headl...  "
      ]
     },
     "execution_count": 6,
     "metadata": {},
     "output_type": "execute_result"
    }
   ],
   "source": [
    "df"
   ]
  },
  {
   "cell_type": "code",
   "execution_count": null,
   "id": "480d4016",
   "metadata": {},
   "outputs": [],
   "source": []
  }
 ],
 "metadata": {
  "kernelspec": {
   "display_name": "Python 3 (ipykernel)",
   "language": "python",
   "name": "python3"
  },
  "language_info": {
   "codemirror_mode": {
    "name": "ipython",
    "version": 3
   },
   "file_extension": ".py",
   "mimetype": "text/x-python",
   "name": "python",
   "nbconvert_exporter": "python",
   "pygments_lexer": "ipython3",
   "version": "3.11.5"
  }
 },
 "nbformat": 4,
 "nbformat_minor": 5
}
